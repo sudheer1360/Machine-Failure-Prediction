{
 "cells": [
  {
   "cell_type": "code",
   "execution_count": 9,
   "metadata": {},
   "outputs": [],
   "source": [
    "import pandas as pd\n",
    "dataset=pd.read_csv(\"Machine.csv\")"
   ]
  },
  {
   "cell_type": "code",
   "execution_count": 10,
   "metadata": {},
   "outputs": [
    {
     "data": {
      "text/html": [
       "<div>\n",
       "<style scoped>\n",
       "    .dataframe tbody tr th:only-of-type {\n",
       "        vertical-align: middle;\n",
       "    }\n",
       "\n",
       "    .dataframe tbody tr th {\n",
       "        vertical-align: top;\n",
       "    }\n",
       "\n",
       "    .dataframe thead th {\n",
       "        text-align: right;\n",
       "    }\n",
       "</style>\n",
       "<table border=\"1\" class=\"dataframe\">\n",
       "  <thead>\n",
       "    <tr style=\"text-align: right;\">\n",
       "      <th></th>\n",
       "      <th>Type</th>\n",
       "      <th>Air temperature [K]</th>\n",
       "      <th>Process temperature [K]</th>\n",
       "      <th>Rotational speed [rpm]</th>\n",
       "      <th>Torque [Nm]</th>\n",
       "      <th>Tool wear [min]</th>\n",
       "      <th>Machine failure</th>\n",
       "    </tr>\n",
       "  </thead>\n",
       "  <tbody>\n",
       "    <tr>\n",
       "      <th>0</th>\n",
       "      <td>M</td>\n",
       "      <td>20.879744</td>\n",
       "      <td>23.453790</td>\n",
       "      <td>1551</td>\n",
       "      <td>42.8</td>\n",
       "      <td>0</td>\n",
       "      <td>0</td>\n",
       "    </tr>\n",
       "    <tr>\n",
       "      <th>1</th>\n",
       "      <td>L</td>\n",
       "      <td>21.770462</td>\n",
       "      <td>34.538239</td>\n",
       "      <td>1408</td>\n",
       "      <td>46.3</td>\n",
       "      <td>3</td>\n",
       "      <td>0</td>\n",
       "    </tr>\n",
       "    <tr>\n",
       "      <th>2</th>\n",
       "      <td>L</td>\n",
       "      <td>23.004459</td>\n",
       "      <td>19.501122</td>\n",
       "      <td>1498</td>\n",
       "      <td>49.4</td>\n",
       "      <td>5</td>\n",
       "      <td>1</td>\n",
       "    </tr>\n",
       "    <tr>\n",
       "      <th>3</th>\n",
       "      <td>L</td>\n",
       "      <td>26.491096</td>\n",
       "      <td>28.767949</td>\n",
       "      <td>1433</td>\n",
       "      <td>39.5</td>\n",
       "      <td>7</td>\n",
       "      <td>0</td>\n",
       "    </tr>\n",
       "    <tr>\n",
       "      <th>4</th>\n",
       "      <td>L</td>\n",
       "      <td>20.130175</td>\n",
       "      <td>30.977587</td>\n",
       "      <td>1408</td>\n",
       "      <td>40.0</td>\n",
       "      <td>9</td>\n",
       "      <td>0</td>\n",
       "    </tr>\n",
       "    <tr>\n",
       "      <th>...</th>\n",
       "      <td>...</td>\n",
       "      <td>...</td>\n",
       "      <td>...</td>\n",
       "      <td>...</td>\n",
       "      <td>...</td>\n",
       "      <td>...</td>\n",
       "      <td>...</td>\n",
       "    </tr>\n",
       "    <tr>\n",
       "      <th>94</th>\n",
       "      <td>L</td>\n",
       "      <td>22.696578</td>\n",
       "      <td>30.573999</td>\n",
       "      <td>1622</td>\n",
       "      <td>31.9</td>\n",
       "      <td>42</td>\n",
       "      <td>0</td>\n",
       "    </tr>\n",
       "    <tr>\n",
       "      <th>95</th>\n",
       "      <td>M</td>\n",
       "      <td>22.683191</td>\n",
       "      <td>25.425170</td>\n",
       "      <td>1351</td>\n",
       "      <td>52.2</td>\n",
       "      <td>44</td>\n",
       "      <td>0</td>\n",
       "    </tr>\n",
       "    <tr>\n",
       "      <th>96</th>\n",
       "      <td>M</td>\n",
       "      <td>21.533463</td>\n",
       "      <td>27.094006</td>\n",
       "      <td>1575</td>\n",
       "      <td>35.3</td>\n",
       "      <td>47</td>\n",
       "      <td>0</td>\n",
       "    </tr>\n",
       "    <tr>\n",
       "      <th>97</th>\n",
       "      <td>M</td>\n",
       "      <td>21.408658</td>\n",
       "      <td>24.309351</td>\n",
       "      <td>1750</td>\n",
       "      <td>29.9</td>\n",
       "      <td>50</td>\n",
       "      <td>0</td>\n",
       "    </tr>\n",
       "    <tr>\n",
       "      <th>98</th>\n",
       "      <td>L</td>\n",
       "      <td>26.543481</td>\n",
       "      <td>30.061426</td>\n",
       "      <td>1529</td>\n",
       "      <td>32.7</td>\n",
       "      <td>53</td>\n",
       "      <td>1</td>\n",
       "    </tr>\n",
       "  </tbody>\n",
       "</table>\n",
       "<p>99 rows × 7 columns</p>\n",
       "</div>"
      ],
      "text/plain": [
       "   Type  Air temperature [K]  Process temperature [K]  Rotational speed [rpm]  \\\n",
       "0     M            20.879744                23.453790                    1551   \n",
       "1     L            21.770462                34.538239                    1408   \n",
       "2     L            23.004459                19.501122                    1498   \n",
       "3     L            26.491096                28.767949                    1433   \n",
       "4     L            20.130175                30.977587                    1408   \n",
       "..  ...                  ...                      ...                     ...   \n",
       "94    L            22.696578                30.573999                    1622   \n",
       "95    M            22.683191                25.425170                    1351   \n",
       "96    M            21.533463                27.094006                    1575   \n",
       "97    M            21.408658                24.309351                    1750   \n",
       "98    L            26.543481                30.061426                    1529   \n",
       "\n",
       "    Torque [Nm]  Tool wear [min]  Machine failure  \n",
       "0          42.8                0                0  \n",
       "1          46.3                3                0  \n",
       "2          49.4                5                1  \n",
       "3          39.5                7                0  \n",
       "4          40.0                9                0  \n",
       "..          ...              ...              ...  \n",
       "94         31.9               42                0  \n",
       "95         52.2               44                0  \n",
       "96         35.3               47                0  \n",
       "97         29.9               50                0  \n",
       "98         32.7               53                1  \n",
       "\n",
       "[99 rows x 7 columns]"
      ]
     },
     "execution_count": 10,
     "metadata": {},
     "output_type": "execute_result"
    }
   ],
   "source": [
    "dataset"
   ]
  },
  {
   "cell_type": "code",
   "execution_count": 11,
   "metadata": {},
   "outputs": [],
   "source": [
    "X=dataset.iloc[:,:-1].values"
   ]
  },
  {
   "cell_type": "code",
   "execution_count": 12,
   "metadata": {},
   "outputs": [
    {
     "data": {
      "text/plain": [
       "array([['M', 20.87974371, 23.45379018, 1551, 42.8, 0],\n",
       "       ['L', 21.77046169, 34.53823889, 1408, 46.3, 3],\n",
       "       ['L', 23.00445915, 19.50112224, 1498, 49.4, 5],\n",
       "       ['L', 26.49109635, 28.76794904, 1433, 39.5, 7],\n",
       "       ['L', 20.13017482, 30.97758716, 1408, 40.0, 9],\n",
       "       ['M', 23.05804872, 18.39759147, 1425, 41.9, 11],\n",
       "       ['L', 22.70883798, 35.09357419, 1558, 42.4, 14],\n",
       "       ['L', 20.27774362, 34.93174223, 1527, 40.2, 16],\n",
       "       ['M', 24.51588066, 29.50523036, 1667, 28.6, 18],\n",
       "       ['M', 23.22397386, 34.51934775, 1741, 28.0, 21],\n",
       "       ['H', 26.52723513, 28.43430726, 1782, 23.9, 24],\n",
       "       ['H', 23.97898217, 18.41645629, 1423, 44.3, 29],\n",
       "       ['M', 26.80079604, 31.07508973, 1339, 51.1, 34],\n",
       "       ['M', 24.01497622, 20.89342749, 1742, 30.0, 37],\n",
       "       ['L', 25.66585205, 30.90607799, 2035, 19.6, 40],\n",
       "       ['L', 24.28209415, 27.9348279, 1542, 48.4, 42],\n",
       "       ['M', 21.58711777, 35.95176642, 1311, 46.6, 44],\n",
       "       ['M', 23.79391957, 19.54317155, 1410, 45.6, 47],\n",
       "       ['H', 21.8652524, 19.63736208, 1306, 54.5, 50],\n",
       "       ['M', 23.57943626, 31.2192752, 1632, 32.5, 55],\n",
       "       ['H', 21.32504158, 33.50876355, 1375, 42.7, 58],\n",
       "       ['L', 25.15745531, 24.80710166, 1450, 44.8, 63],\n",
       "       ['M', 21.94766735, 36.20970524, 1581, 30.7, 65],\n",
       "       ['L', 21.0525355, 30.50420876, 1758, 25.7, 68],\n",
       "       ['M', 23.48381344, 26.01630259, 1561, 37.3, 70],\n",
       "       ['L', 25.0756354, 31.48469278, 1861, 23.3, 73],\n",
       "       ['L', 26.35927159, 33.15122581, 1512, 39.0, 75],\n",
       "       ['H', 24.52922681, 23.50222822, 1811, 24.6, 77],\n",
       "       ['L', 20.77576147, 34.87248659, 1439, 44.2, 82],\n",
       "       ['L', 22.30157427, 28.09269012, 1693, 30.1, 84],\n",
       "       ['M', 21.44653958, 24.54757829, 1339, 48.2, 86],\n",
       "       ['L', 22.17931888, 33.64769646, 1798, 25.5, 89],\n",
       "       ['L', 24.52783742, 20.5591255, 1419, 48.3, 91],\n",
       "       ['L', 20.26707606, 19.95991719, 1665, 32.5, 93],\n",
       "       ['M', 25.7354293, 28.87667593, 1559, 34.7, 95],\n",
       "       ['M', 26.79533926, 36.04353699, 1452, 48.6, 98],\n",
       "       ['M', 26.75754171, 23.6734328, 1581, 36.7, 101],\n",
       "       ['L', 23.86330467, 25.74679443, 1439, 39.2, 104],\n",
       "       ['H', 21.01944696, 31.08564994, 1379, 50.7, 106],\n",
       "       ['L', 24.17298839, 18.72987676, 1350, 52.5, 111],\n",
       "       ['L', 22.78133816, 29.50304807, 1362, 45.4, 113],\n",
       "       ['L', 25.62980105, 20.43517772, 1368, 50.8, 115],\n",
       "       ['M', 25.59704938, 36.00415838, 1368, 49.1, 117],\n",
       "       ['H', 23.83067496, 31.46846241, 1372, 48.5, 120],\n",
       "       ['M', 26.31355498, 36.30049702, 1472, 47.5, 125],\n",
       "       ['L', 24.8972823, 29.49096726, 1489, 49.1, 128],\n",
       "       ['M', 24.958779, 30.5753044, 1843, 25.8, 130],\n",
       "       ['L', 23.24113501, 24.69487673, 1418, 46.3, 133],\n",
       "       ['H', 21.66628296, 23.17409556, 1425, 53.9, 135],\n",
       "       ['M', 24.63544858, 19.04380471, 1412, 44.1, 140],\n",
       "       ['L', 23.43121862, 29.32379604, 2861, 4.6, 143],\n",
       "       ['L', 20.0454142, 34.6455408, 1383, 54.9, 145],\n",
       "       ['H', 23.85724032, 21.9989826, 1497, 43.8, 147],\n",
       "       ['L', 21.97199397, 22.99774444, 1565, 35.1, 152],\n",
       "       ['L', 26.22916897, 30.55992394, 1691, 30.1, 154],\n",
       "       ['L', 23.44676801, 31.46417866, 1512, 40.7, 156],\n",
       "       ['L', 25.65553461, 25.95058595, 1477, 42.4, 158],\n",
       "       ['L', 24.44345477, 21.01142393, 1513, 40.3, 160],\n",
       "       ['M', 20.2801937, 19.25100056, 1661, 29.5, 162],\n",
       "       ['L', 21.7238313, 19.24462755, 1378, 54.4, 165],\n",
       "       ['L', 20.41447029, 22.47253208, 1393, 52.6, 167],\n",
       "       ['M', 25.75528612, 36.75087487, 1592, 38.2, 169],\n",
       "       ['L', 20.61521424, 29.89286629, 1829, 22.9, 172],\n",
       "       ['M', 21.84106875, 29.37735586, 1812, 25.9, 174],\n",
       "       ['L', 20.08369642, 29.65052947, 1523, 38.6, 177],\n",
       "       ['L', 24.45802087, 19.54284889, 1394, 45.1, 179],\n",
       "       ['M', 21.14347496, 20.04611791, 1679, 28.7, 181],\n",
       "       ['H', 25.78720567, 27.91095209, 1466, 44.1, 184],\n",
       "       ['L', 23.64124821, 27.32220619, 1527, 32.4, 189],\n",
       "       ['L', 23.43191632, 28.66024187, 1410, 65.7, 191],\n",
       "       ['M', 24.97669518, 29.02955344, 1924, 22.6, 193],\n",
       "       ['L', 22.72791041, 27.78031515, 1452, 45.5, 196],\n",
       "       ['L', 24.87300744, 31.99928579, 1369, 44.4, 198],\n",
       "       ['L', 21.32376327, 27.33580911, 1592, 35.0, 200],\n",
       "       ['L', 26.29465461, 28.92952635, 1601, 32.3, 202],\n",
       "       ['L', 22.2286982, 27.65472156, 1379, 46.7, 204],\n",
       "       ['L', 26.73072391, 28.52396666, 1461, 47.9, 206],\n",
       "       ['L', 24.88921174, 31.02215872, 1455, 41.3, 208],\n",
       "       ['L', 26.88444878, 25.74095321, 1398, 51.5, 0],\n",
       "       ['L', 22.67846116, 31.70447482, 1402, 37.9, 2],\n",
       "       ['H', 26.08867875, 24.47876451, 1445, 49.9, 4],\n",
       "       ['L', 25.42977518, 31.46511256, 1450, 47.5, 9],\n",
       "       ['L', 26.40323239, 25.60973447, 1453, 40.8, 11],\n",
       "       ['L', 26.04371967, 30.30260453, 1469, 40.1, 13],\n",
       "       ['L', 25.2827223, 28.17489437, 1422, 47.6, 15],\n",
       "       ['M', 22.08576562, 25.50634557, 1804, 26.8, 17],\n",
       "       ['H', 23.28617173, 31.12896766, 1436, 43.9, 20],\n",
       "       ['L', 25.48591986, 26.34043268, 1544, 31.8, 25],\n",
       "       ['M', 23.67575393, 28.23494706, 1419, 45.2, 27],\n",
       "       ['M', 20.82477109, 27.04453473, 1487, 39.5, 30],\n",
       "       ['L', 26.92995077, 25.16125354, 1753, 25.8, 33],\n",
       "       ['L', 23.83509503, 27.3179125, 1830, 24.9, 35],\n",
       "       ['M', 26.52872817, 25.4123765, 1727, 27.1, 37],\n",
       "       ['L', 26.46428311, 31.21629982, 1450, 43.0, 40],\n",
       "       ['L', 22.69657794, 30.573999, 1622, 31.9, 42],\n",
       "       ['M', 22.68319059, 25.42517036, 1351, 52.2, 44],\n",
       "       ['M', 21.53346343, 27.09400578, 1575, 35.3, 47],\n",
       "       ['M', 21.40865769, 24.30935081, 1750, 29.9, 50],\n",
       "       ['L', 26.54348085, 30.06142622, 1529, 32.7, 53]], dtype=object)"
      ]
     },
     "execution_count": 12,
     "metadata": {},
     "output_type": "execute_result"
    }
   ],
   "source": [
    "X"
   ]
  },
  {
   "cell_type": "code",
   "execution_count": 13,
   "metadata": {},
   "outputs": [],
   "source": [
    "from sklearn.preprocessing import LabelEncoder\n",
    "le=LabelEncoder()\n",
    "X[:,0]=le.fit_transform(X[:,0])"
   ]
  },
  {
   "cell_type": "code",
   "execution_count": 14,
   "metadata": {},
   "outputs": [
    {
     "data": {
      "text/plain": [
       "array([[2, 20.87974371, 23.45379018, 1551, 42.8, 0],\n",
       "       [1, 21.77046169, 34.53823889, 1408, 46.3, 3],\n",
       "       [1, 23.00445915, 19.50112224, 1498, 49.4, 5],\n",
       "       [1, 26.49109635, 28.76794904, 1433, 39.5, 7],\n",
       "       [1, 20.13017482, 30.97758716, 1408, 40.0, 9],\n",
       "       [2, 23.05804872, 18.39759147, 1425, 41.9, 11],\n",
       "       [1, 22.70883798, 35.09357419, 1558, 42.4, 14],\n",
       "       [1, 20.27774362, 34.93174223, 1527, 40.2, 16],\n",
       "       [2, 24.51588066, 29.50523036, 1667, 28.6, 18],\n",
       "       [2, 23.22397386, 34.51934775, 1741, 28.0, 21],\n",
       "       [0, 26.52723513, 28.43430726, 1782, 23.9, 24],\n",
       "       [0, 23.97898217, 18.41645629, 1423, 44.3, 29],\n",
       "       [2, 26.80079604, 31.07508973, 1339, 51.1, 34],\n",
       "       [2, 24.01497622, 20.89342749, 1742, 30.0, 37],\n",
       "       [1, 25.66585205, 30.90607799, 2035, 19.6, 40],\n",
       "       [1, 24.28209415, 27.9348279, 1542, 48.4, 42],\n",
       "       [2, 21.58711777, 35.95176642, 1311, 46.6, 44],\n",
       "       [2, 23.79391957, 19.54317155, 1410, 45.6, 47],\n",
       "       [0, 21.8652524, 19.63736208, 1306, 54.5, 50],\n",
       "       [2, 23.57943626, 31.2192752, 1632, 32.5, 55],\n",
       "       [0, 21.32504158, 33.50876355, 1375, 42.7, 58],\n",
       "       [1, 25.15745531, 24.80710166, 1450, 44.8, 63],\n",
       "       [2, 21.94766735, 36.20970524, 1581, 30.7, 65],\n",
       "       [1, 21.0525355, 30.50420876, 1758, 25.7, 68],\n",
       "       [2, 23.48381344, 26.01630259, 1561, 37.3, 70],\n",
       "       [1, 25.0756354, 31.48469278, 1861, 23.3, 73],\n",
       "       [1, 26.35927159, 33.15122581, 1512, 39.0, 75],\n",
       "       [0, 24.52922681, 23.50222822, 1811, 24.6, 77],\n",
       "       [1, 20.77576147, 34.87248659, 1439, 44.2, 82],\n",
       "       [1, 22.30157427, 28.09269012, 1693, 30.1, 84],\n",
       "       [2, 21.44653958, 24.54757829, 1339, 48.2, 86],\n",
       "       [1, 22.17931888, 33.64769646, 1798, 25.5, 89],\n",
       "       [1, 24.52783742, 20.5591255, 1419, 48.3, 91],\n",
       "       [1, 20.26707606, 19.95991719, 1665, 32.5, 93],\n",
       "       [2, 25.7354293, 28.87667593, 1559, 34.7, 95],\n",
       "       [2, 26.79533926, 36.04353699, 1452, 48.6, 98],\n",
       "       [2, 26.75754171, 23.6734328, 1581, 36.7, 101],\n",
       "       [1, 23.86330467, 25.74679443, 1439, 39.2, 104],\n",
       "       [0, 21.01944696, 31.08564994, 1379, 50.7, 106],\n",
       "       [1, 24.17298839, 18.72987676, 1350, 52.5, 111],\n",
       "       [1, 22.78133816, 29.50304807, 1362, 45.4, 113],\n",
       "       [1, 25.62980105, 20.43517772, 1368, 50.8, 115],\n",
       "       [2, 25.59704938, 36.00415838, 1368, 49.1, 117],\n",
       "       [0, 23.83067496, 31.46846241, 1372, 48.5, 120],\n",
       "       [2, 26.31355498, 36.30049702, 1472, 47.5, 125],\n",
       "       [1, 24.8972823, 29.49096726, 1489, 49.1, 128],\n",
       "       [2, 24.958779, 30.5753044, 1843, 25.8, 130],\n",
       "       [1, 23.24113501, 24.69487673, 1418, 46.3, 133],\n",
       "       [0, 21.66628296, 23.17409556, 1425, 53.9, 135],\n",
       "       [2, 24.63544858, 19.04380471, 1412, 44.1, 140],\n",
       "       [1, 23.43121862, 29.32379604, 2861, 4.6, 143],\n",
       "       [1, 20.0454142, 34.6455408, 1383, 54.9, 145],\n",
       "       [0, 23.85724032, 21.9989826, 1497, 43.8, 147],\n",
       "       [1, 21.97199397, 22.99774444, 1565, 35.1, 152],\n",
       "       [1, 26.22916897, 30.55992394, 1691, 30.1, 154],\n",
       "       [1, 23.44676801, 31.46417866, 1512, 40.7, 156],\n",
       "       [1, 25.65553461, 25.95058595, 1477, 42.4, 158],\n",
       "       [1, 24.44345477, 21.01142393, 1513, 40.3, 160],\n",
       "       [2, 20.2801937, 19.25100056, 1661, 29.5, 162],\n",
       "       [1, 21.7238313, 19.24462755, 1378, 54.4, 165],\n",
       "       [1, 20.41447029, 22.47253208, 1393, 52.6, 167],\n",
       "       [2, 25.75528612, 36.75087487, 1592, 38.2, 169],\n",
       "       [1, 20.61521424, 29.89286629, 1829, 22.9, 172],\n",
       "       [2, 21.84106875, 29.37735586, 1812, 25.9, 174],\n",
       "       [1, 20.08369642, 29.65052947, 1523, 38.6, 177],\n",
       "       [1, 24.45802087, 19.54284889, 1394, 45.1, 179],\n",
       "       [2, 21.14347496, 20.04611791, 1679, 28.7, 181],\n",
       "       [0, 25.78720567, 27.91095209, 1466, 44.1, 184],\n",
       "       [1, 23.64124821, 27.32220619, 1527, 32.4, 189],\n",
       "       [1, 23.43191632, 28.66024187, 1410, 65.7, 191],\n",
       "       [2, 24.97669518, 29.02955344, 1924, 22.6, 193],\n",
       "       [1, 22.72791041, 27.78031515, 1452, 45.5, 196],\n",
       "       [1, 24.87300744, 31.99928579, 1369, 44.4, 198],\n",
       "       [1, 21.32376327, 27.33580911, 1592, 35.0, 200],\n",
       "       [1, 26.29465461, 28.92952635, 1601, 32.3, 202],\n",
       "       [1, 22.2286982, 27.65472156, 1379, 46.7, 204],\n",
       "       [1, 26.73072391, 28.52396666, 1461, 47.9, 206],\n",
       "       [1, 24.88921174, 31.02215872, 1455, 41.3, 208],\n",
       "       [1, 26.88444878, 25.74095321, 1398, 51.5, 0],\n",
       "       [1, 22.67846116, 31.70447482, 1402, 37.9, 2],\n",
       "       [0, 26.08867875, 24.47876451, 1445, 49.9, 4],\n",
       "       [1, 25.42977518, 31.46511256, 1450, 47.5, 9],\n",
       "       [1, 26.40323239, 25.60973447, 1453, 40.8, 11],\n",
       "       [1, 26.04371967, 30.30260453, 1469, 40.1, 13],\n",
       "       [1, 25.2827223, 28.17489437, 1422, 47.6, 15],\n",
       "       [2, 22.08576562, 25.50634557, 1804, 26.8, 17],\n",
       "       [0, 23.28617173, 31.12896766, 1436, 43.9, 20],\n",
       "       [1, 25.48591986, 26.34043268, 1544, 31.8, 25],\n",
       "       [2, 23.67575393, 28.23494706, 1419, 45.2, 27],\n",
       "       [2, 20.82477109, 27.04453473, 1487, 39.5, 30],\n",
       "       [1, 26.92995077, 25.16125354, 1753, 25.8, 33],\n",
       "       [1, 23.83509503, 27.3179125, 1830, 24.9, 35],\n",
       "       [2, 26.52872817, 25.4123765, 1727, 27.1, 37],\n",
       "       [1, 26.46428311, 31.21629982, 1450, 43.0, 40],\n",
       "       [1, 22.69657794, 30.573999, 1622, 31.9, 42],\n",
       "       [2, 22.68319059, 25.42517036, 1351, 52.2, 44],\n",
       "       [2, 21.53346343, 27.09400578, 1575, 35.3, 47],\n",
       "       [2, 21.40865769, 24.30935081, 1750, 29.9, 50],\n",
       "       [1, 26.54348085, 30.06142622, 1529, 32.7, 53]], dtype=object)"
      ]
     },
     "execution_count": 14,
     "metadata": {},
     "output_type": "execute_result"
    }
   ],
   "source": [
    "X"
   ]
  },
  {
   "cell_type": "code",
   "execution_count": 15,
   "metadata": {},
   "outputs": [],
   "source": [
    "Y=dataset.iloc[:,-1]"
   ]
  },
  {
   "cell_type": "code",
   "execution_count": 16,
   "metadata": {},
   "outputs": [
    {
     "data": {
      "text/plain": [
       "0     0\n",
       "1     0\n",
       "2     1\n",
       "3     0\n",
       "4     0\n",
       "     ..\n",
       "94    0\n",
       "95    0\n",
       "96    0\n",
       "97    0\n",
       "98    1\n",
       "Name: Machine failure, Length: 99, dtype: int64"
      ]
     },
     "execution_count": 16,
     "metadata": {},
     "output_type": "execute_result"
    }
   ],
   "source": [
    "Y"
   ]
  },
  {
   "cell_type": "code",
   "execution_count": 17,
   "metadata": {},
   "outputs": [],
   "source": [
    "from sklearn.model_selection import train_test_split\n",
    "X_train,X_test,Y_train,Y_test=train_test_split(X,Y,test_size=0.2)"
   ]
  },
  {
   "cell_type": "code",
   "execution_count": 18,
   "metadata": {},
   "outputs": [
    {
     "data": {
      "text/plain": [
       "(79, 6)"
      ]
     },
     "execution_count": 18,
     "metadata": {},
     "output_type": "execute_result"
    }
   ],
   "source": [
    "X_train.shape"
   ]
  },
  {
   "cell_type": "code",
   "execution_count": 19,
   "metadata": {},
   "outputs": [
    {
     "data": {
      "text/plain": [
       "(20, 6)"
      ]
     },
     "execution_count": 19,
     "metadata": {},
     "output_type": "execute_result"
    }
   ],
   "source": [
    "X_test.shape"
   ]
  },
  {
   "cell_type": "code",
   "execution_count": 20,
   "metadata": {},
   "outputs": [
    {
     "data": {
      "text/plain": [
       "(79,)"
      ]
     },
     "execution_count": 20,
     "metadata": {},
     "output_type": "execute_result"
    }
   ],
   "source": [
    "Y_train.shape"
   ]
  },
  {
   "cell_type": "code",
   "execution_count": 21,
   "metadata": {},
   "outputs": [
    {
     "data": {
      "text/plain": [
       "(20,)"
      ]
     },
     "execution_count": 21,
     "metadata": {},
     "output_type": "execute_result"
    }
   ],
   "source": [
    "Y_test.shape"
   ]
  },
  {
   "cell_type": "code",
   "execution_count": 23,
   "metadata": {},
   "outputs": [
    {
     "data": {
      "text/html": [
       "<style>#sk-container-id-1 {color: black;}#sk-container-id-1 pre{padding: 0;}#sk-container-id-1 div.sk-toggleable {background-color: white;}#sk-container-id-1 label.sk-toggleable__label {cursor: pointer;display: block;width: 100%;margin-bottom: 0;padding: 0.3em;box-sizing: border-box;text-align: center;}#sk-container-id-1 label.sk-toggleable__label-arrow:before {content: \"▸\";float: left;margin-right: 0.25em;color: #696969;}#sk-container-id-1 label.sk-toggleable__label-arrow:hover:before {color: black;}#sk-container-id-1 div.sk-estimator:hover label.sk-toggleable__label-arrow:before {color: black;}#sk-container-id-1 div.sk-toggleable__content {max-height: 0;max-width: 0;overflow: hidden;text-align: left;background-color: #f0f8ff;}#sk-container-id-1 div.sk-toggleable__content pre {margin: 0.2em;color: black;border-radius: 0.25em;background-color: #f0f8ff;}#sk-container-id-1 input.sk-toggleable__control:checked~div.sk-toggleable__content {max-height: 200px;max-width: 100%;overflow: auto;}#sk-container-id-1 input.sk-toggleable__control:checked~label.sk-toggleable__label-arrow:before {content: \"▾\";}#sk-container-id-1 div.sk-estimator input.sk-toggleable__control:checked~label.sk-toggleable__label {background-color: #d4ebff;}#sk-container-id-1 div.sk-label input.sk-toggleable__control:checked~label.sk-toggleable__label {background-color: #d4ebff;}#sk-container-id-1 input.sk-hidden--visually {border: 0;clip: rect(1px 1px 1px 1px);clip: rect(1px, 1px, 1px, 1px);height: 1px;margin: -1px;overflow: hidden;padding: 0;position: absolute;width: 1px;}#sk-container-id-1 div.sk-estimator {font-family: monospace;background-color: #f0f8ff;border: 1px dotted black;border-radius: 0.25em;box-sizing: border-box;margin-bottom: 0.5em;}#sk-container-id-1 div.sk-estimator:hover {background-color: #d4ebff;}#sk-container-id-1 div.sk-parallel-item::after {content: \"\";width: 100%;border-bottom: 1px solid gray;flex-grow: 1;}#sk-container-id-1 div.sk-label:hover label.sk-toggleable__label {background-color: #d4ebff;}#sk-container-id-1 div.sk-serial::before {content: \"\";position: absolute;border-left: 1px solid gray;box-sizing: border-box;top: 0;bottom: 0;left: 50%;z-index: 0;}#sk-container-id-1 div.sk-serial {display: flex;flex-direction: column;align-items: center;background-color: white;padding-right: 0.2em;padding-left: 0.2em;position: relative;}#sk-container-id-1 div.sk-item {position: relative;z-index: 1;}#sk-container-id-1 div.sk-parallel {display: flex;align-items: stretch;justify-content: center;background-color: white;position: relative;}#sk-container-id-1 div.sk-item::before, #sk-container-id-1 div.sk-parallel-item::before {content: \"\";position: absolute;border-left: 1px solid gray;box-sizing: border-box;top: 0;bottom: 0;left: 50%;z-index: -1;}#sk-container-id-1 div.sk-parallel-item {display: flex;flex-direction: column;z-index: 1;position: relative;background-color: white;}#sk-container-id-1 div.sk-parallel-item:first-child::after {align-self: flex-end;width: 50%;}#sk-container-id-1 div.sk-parallel-item:last-child::after {align-self: flex-start;width: 50%;}#sk-container-id-1 div.sk-parallel-item:only-child::after {width: 0;}#sk-container-id-1 div.sk-dashed-wrapped {border: 1px dashed gray;margin: 0 0.4em 0.5em 0.4em;box-sizing: border-box;padding-bottom: 0.4em;background-color: white;}#sk-container-id-1 div.sk-label label {font-family: monospace;font-weight: bold;display: inline-block;line-height: 1.2em;}#sk-container-id-1 div.sk-label-container {text-align: center;}#sk-container-id-1 div.sk-container {/* jupyter's `normalize.less` sets `[hidden] { display: none; }` but bootstrap.min.css set `[hidden] { display: none !important; }` so we also need the `!important` here to be able to override the default hidden behavior on the sphinx rendered scikit-learn.org. See: https://github.com/scikit-learn/scikit-learn/issues/21755 */display: inline-block !important;position: relative;}#sk-container-id-1 div.sk-text-repr-fallback {display: none;}</style><div id=\"sk-container-id-1\" class=\"sk-top-container\"><div class=\"sk-text-repr-fallback\"><pre>LogisticRegression()</pre><b>In a Jupyter environment, please rerun this cell to show the HTML representation or trust the notebook. <br />On GitHub, the HTML representation is unable to render, please try loading this page with nbviewer.org.</b></div><div class=\"sk-container\" hidden><div class=\"sk-item\"><div class=\"sk-estimator sk-toggleable\"><input class=\"sk-toggleable__control sk-hidden--visually\" id=\"sk-estimator-id-1\" type=\"checkbox\" checked><label for=\"sk-estimator-id-1\" class=\"sk-toggleable__label sk-toggleable__label-arrow\">LogisticRegression</label><div class=\"sk-toggleable__content\"><pre>LogisticRegression()</pre></div></div></div></div></div>"
      ],
      "text/plain": [
       "LogisticRegression()"
      ]
     },
     "execution_count": 23,
     "metadata": {},
     "output_type": "execute_result"
    }
   ],
   "source": [
    "from sklearn.linear_model import LogisticRegression\n",
    "\n",
    "classifier1=LogisticRegression()\n",
    "\n",
    "classifier1.fit(X_train,Y_train)"
   ]
  },
  {
   "cell_type": "code",
   "execution_count": 24,
   "metadata": {},
   "outputs": [
    {
     "data": {
      "text/html": [
       "<style>#sk-container-id-2 {color: black;}#sk-container-id-2 pre{padding: 0;}#sk-container-id-2 div.sk-toggleable {background-color: white;}#sk-container-id-2 label.sk-toggleable__label {cursor: pointer;display: block;width: 100%;margin-bottom: 0;padding: 0.3em;box-sizing: border-box;text-align: center;}#sk-container-id-2 label.sk-toggleable__label-arrow:before {content: \"▸\";float: left;margin-right: 0.25em;color: #696969;}#sk-container-id-2 label.sk-toggleable__label-arrow:hover:before {color: black;}#sk-container-id-2 div.sk-estimator:hover label.sk-toggleable__label-arrow:before {color: black;}#sk-container-id-2 div.sk-toggleable__content {max-height: 0;max-width: 0;overflow: hidden;text-align: left;background-color: #f0f8ff;}#sk-container-id-2 div.sk-toggleable__content pre {margin: 0.2em;color: black;border-radius: 0.25em;background-color: #f0f8ff;}#sk-container-id-2 input.sk-toggleable__control:checked~div.sk-toggleable__content {max-height: 200px;max-width: 100%;overflow: auto;}#sk-container-id-2 input.sk-toggleable__control:checked~label.sk-toggleable__label-arrow:before {content: \"▾\";}#sk-container-id-2 div.sk-estimator input.sk-toggleable__control:checked~label.sk-toggleable__label {background-color: #d4ebff;}#sk-container-id-2 div.sk-label input.sk-toggleable__control:checked~label.sk-toggleable__label {background-color: #d4ebff;}#sk-container-id-2 input.sk-hidden--visually {border: 0;clip: rect(1px 1px 1px 1px);clip: rect(1px, 1px, 1px, 1px);height: 1px;margin: -1px;overflow: hidden;padding: 0;position: absolute;width: 1px;}#sk-container-id-2 div.sk-estimator {font-family: monospace;background-color: #f0f8ff;border: 1px dotted black;border-radius: 0.25em;box-sizing: border-box;margin-bottom: 0.5em;}#sk-container-id-2 div.sk-estimator:hover {background-color: #d4ebff;}#sk-container-id-2 div.sk-parallel-item::after {content: \"\";width: 100%;border-bottom: 1px solid gray;flex-grow: 1;}#sk-container-id-2 div.sk-label:hover label.sk-toggleable__label {background-color: #d4ebff;}#sk-container-id-2 div.sk-serial::before {content: \"\";position: absolute;border-left: 1px solid gray;box-sizing: border-box;top: 0;bottom: 0;left: 50%;z-index: 0;}#sk-container-id-2 div.sk-serial {display: flex;flex-direction: column;align-items: center;background-color: white;padding-right: 0.2em;padding-left: 0.2em;position: relative;}#sk-container-id-2 div.sk-item {position: relative;z-index: 1;}#sk-container-id-2 div.sk-parallel {display: flex;align-items: stretch;justify-content: center;background-color: white;position: relative;}#sk-container-id-2 div.sk-item::before, #sk-container-id-2 div.sk-parallel-item::before {content: \"\";position: absolute;border-left: 1px solid gray;box-sizing: border-box;top: 0;bottom: 0;left: 50%;z-index: -1;}#sk-container-id-2 div.sk-parallel-item {display: flex;flex-direction: column;z-index: 1;position: relative;background-color: white;}#sk-container-id-2 div.sk-parallel-item:first-child::after {align-self: flex-end;width: 50%;}#sk-container-id-2 div.sk-parallel-item:last-child::after {align-self: flex-start;width: 50%;}#sk-container-id-2 div.sk-parallel-item:only-child::after {width: 0;}#sk-container-id-2 div.sk-dashed-wrapped {border: 1px dashed gray;margin: 0 0.4em 0.5em 0.4em;box-sizing: border-box;padding-bottom: 0.4em;background-color: white;}#sk-container-id-2 div.sk-label label {font-family: monospace;font-weight: bold;display: inline-block;line-height: 1.2em;}#sk-container-id-2 div.sk-label-container {text-align: center;}#sk-container-id-2 div.sk-container {/* jupyter's `normalize.less` sets `[hidden] { display: none; }` but bootstrap.min.css set `[hidden] { display: none !important; }` so we also need the `!important` here to be able to override the default hidden behavior on the sphinx rendered scikit-learn.org. See: https://github.com/scikit-learn/scikit-learn/issues/21755 */display: inline-block !important;position: relative;}#sk-container-id-2 div.sk-text-repr-fallback {display: none;}</style><div id=\"sk-container-id-2\" class=\"sk-top-container\"><div class=\"sk-text-repr-fallback\"><pre>KNeighborsClassifier()</pre><b>In a Jupyter environment, please rerun this cell to show the HTML representation or trust the notebook. <br />On GitHub, the HTML representation is unable to render, please try loading this page with nbviewer.org.</b></div><div class=\"sk-container\" hidden><div class=\"sk-item\"><div class=\"sk-estimator sk-toggleable\"><input class=\"sk-toggleable__control sk-hidden--visually\" id=\"sk-estimator-id-2\" type=\"checkbox\" checked><label for=\"sk-estimator-id-2\" class=\"sk-toggleable__label sk-toggleable__label-arrow\">KNeighborsClassifier</label><div class=\"sk-toggleable__content\"><pre>KNeighborsClassifier()</pre></div></div></div></div></div>"
      ],
      "text/plain": [
       "KNeighborsClassifier()"
      ]
     },
     "execution_count": 24,
     "metadata": {},
     "output_type": "execute_result"
    }
   ],
   "source": [
    "from sklearn.neighbors import KNeighborsClassifier\n",
    "\n",
    "classifier2=KNeighborsClassifier()\n",
    "\n",
    "classifier2.fit(X_train,Y_train)"
   ]
  },
  {
   "cell_type": "code",
   "execution_count": 25,
   "metadata": {},
   "outputs": [
    {
     "data": {
      "text/html": [
       "<style>#sk-container-id-3 {color: black;}#sk-container-id-3 pre{padding: 0;}#sk-container-id-3 div.sk-toggleable {background-color: white;}#sk-container-id-3 label.sk-toggleable__label {cursor: pointer;display: block;width: 100%;margin-bottom: 0;padding: 0.3em;box-sizing: border-box;text-align: center;}#sk-container-id-3 label.sk-toggleable__label-arrow:before {content: \"▸\";float: left;margin-right: 0.25em;color: #696969;}#sk-container-id-3 label.sk-toggleable__label-arrow:hover:before {color: black;}#sk-container-id-3 div.sk-estimator:hover label.sk-toggleable__label-arrow:before {color: black;}#sk-container-id-3 div.sk-toggleable__content {max-height: 0;max-width: 0;overflow: hidden;text-align: left;background-color: #f0f8ff;}#sk-container-id-3 div.sk-toggleable__content pre {margin: 0.2em;color: black;border-radius: 0.25em;background-color: #f0f8ff;}#sk-container-id-3 input.sk-toggleable__control:checked~div.sk-toggleable__content {max-height: 200px;max-width: 100%;overflow: auto;}#sk-container-id-3 input.sk-toggleable__control:checked~label.sk-toggleable__label-arrow:before {content: \"▾\";}#sk-container-id-3 div.sk-estimator input.sk-toggleable__control:checked~label.sk-toggleable__label {background-color: #d4ebff;}#sk-container-id-3 div.sk-label input.sk-toggleable__control:checked~label.sk-toggleable__label {background-color: #d4ebff;}#sk-container-id-3 input.sk-hidden--visually {border: 0;clip: rect(1px 1px 1px 1px);clip: rect(1px, 1px, 1px, 1px);height: 1px;margin: -1px;overflow: hidden;padding: 0;position: absolute;width: 1px;}#sk-container-id-3 div.sk-estimator {font-family: monospace;background-color: #f0f8ff;border: 1px dotted black;border-radius: 0.25em;box-sizing: border-box;margin-bottom: 0.5em;}#sk-container-id-3 div.sk-estimator:hover {background-color: #d4ebff;}#sk-container-id-3 div.sk-parallel-item::after {content: \"\";width: 100%;border-bottom: 1px solid gray;flex-grow: 1;}#sk-container-id-3 div.sk-label:hover label.sk-toggleable__label {background-color: #d4ebff;}#sk-container-id-3 div.sk-serial::before {content: \"\";position: absolute;border-left: 1px solid gray;box-sizing: border-box;top: 0;bottom: 0;left: 50%;z-index: 0;}#sk-container-id-3 div.sk-serial {display: flex;flex-direction: column;align-items: center;background-color: white;padding-right: 0.2em;padding-left: 0.2em;position: relative;}#sk-container-id-3 div.sk-item {position: relative;z-index: 1;}#sk-container-id-3 div.sk-parallel {display: flex;align-items: stretch;justify-content: center;background-color: white;position: relative;}#sk-container-id-3 div.sk-item::before, #sk-container-id-3 div.sk-parallel-item::before {content: \"\";position: absolute;border-left: 1px solid gray;box-sizing: border-box;top: 0;bottom: 0;left: 50%;z-index: -1;}#sk-container-id-3 div.sk-parallel-item {display: flex;flex-direction: column;z-index: 1;position: relative;background-color: white;}#sk-container-id-3 div.sk-parallel-item:first-child::after {align-self: flex-end;width: 50%;}#sk-container-id-3 div.sk-parallel-item:last-child::after {align-self: flex-start;width: 50%;}#sk-container-id-3 div.sk-parallel-item:only-child::after {width: 0;}#sk-container-id-3 div.sk-dashed-wrapped {border: 1px dashed gray;margin: 0 0.4em 0.5em 0.4em;box-sizing: border-box;padding-bottom: 0.4em;background-color: white;}#sk-container-id-3 div.sk-label label {font-family: monospace;font-weight: bold;display: inline-block;line-height: 1.2em;}#sk-container-id-3 div.sk-label-container {text-align: center;}#sk-container-id-3 div.sk-container {/* jupyter's `normalize.less` sets `[hidden] { display: none; }` but bootstrap.min.css set `[hidden] { display: none !important; }` so we also need the `!important` here to be able to override the default hidden behavior on the sphinx rendered scikit-learn.org. See: https://github.com/scikit-learn/scikit-learn/issues/21755 */display: inline-block !important;position: relative;}#sk-container-id-3 div.sk-text-repr-fallback {display: none;}</style><div id=\"sk-container-id-3\" class=\"sk-top-container\"><div class=\"sk-text-repr-fallback\"><pre>DecisionTreeClassifier()</pre><b>In a Jupyter environment, please rerun this cell to show the HTML representation or trust the notebook. <br />On GitHub, the HTML representation is unable to render, please try loading this page with nbviewer.org.</b></div><div class=\"sk-container\" hidden><div class=\"sk-item\"><div class=\"sk-estimator sk-toggleable\"><input class=\"sk-toggleable__control sk-hidden--visually\" id=\"sk-estimator-id-3\" type=\"checkbox\" checked><label for=\"sk-estimator-id-3\" class=\"sk-toggleable__label sk-toggleable__label-arrow\">DecisionTreeClassifier</label><div class=\"sk-toggleable__content\"><pre>DecisionTreeClassifier()</pre></div></div></div></div></div>"
      ],
      "text/plain": [
       "DecisionTreeClassifier()"
      ]
     },
     "execution_count": 25,
     "metadata": {},
     "output_type": "execute_result"
    }
   ],
   "source": [
    "from sklearn.tree import DecisionTreeClassifier\n",
    "\n",
    "classifier3=DecisionTreeClassifier()\n",
    "\n",
    "classifier3.fit(X_train,Y_train)"
   ]
  },
  {
   "cell_type": "code",
   "execution_count": 27,
   "metadata": {},
   "outputs": [
    {
     "data": {
      "text/html": [
       "<style>#sk-container-id-5 {color: black;}#sk-container-id-5 pre{padding: 0;}#sk-container-id-5 div.sk-toggleable {background-color: white;}#sk-container-id-5 label.sk-toggleable__label {cursor: pointer;display: block;width: 100%;margin-bottom: 0;padding: 0.3em;box-sizing: border-box;text-align: center;}#sk-container-id-5 label.sk-toggleable__label-arrow:before {content: \"▸\";float: left;margin-right: 0.25em;color: #696969;}#sk-container-id-5 label.sk-toggleable__label-arrow:hover:before {color: black;}#sk-container-id-5 div.sk-estimator:hover label.sk-toggleable__label-arrow:before {color: black;}#sk-container-id-5 div.sk-toggleable__content {max-height: 0;max-width: 0;overflow: hidden;text-align: left;background-color: #f0f8ff;}#sk-container-id-5 div.sk-toggleable__content pre {margin: 0.2em;color: black;border-radius: 0.25em;background-color: #f0f8ff;}#sk-container-id-5 input.sk-toggleable__control:checked~div.sk-toggleable__content {max-height: 200px;max-width: 100%;overflow: auto;}#sk-container-id-5 input.sk-toggleable__control:checked~label.sk-toggleable__label-arrow:before {content: \"▾\";}#sk-container-id-5 div.sk-estimator input.sk-toggleable__control:checked~label.sk-toggleable__label {background-color: #d4ebff;}#sk-container-id-5 div.sk-label input.sk-toggleable__control:checked~label.sk-toggleable__label {background-color: #d4ebff;}#sk-container-id-5 input.sk-hidden--visually {border: 0;clip: rect(1px 1px 1px 1px);clip: rect(1px, 1px, 1px, 1px);height: 1px;margin: -1px;overflow: hidden;padding: 0;position: absolute;width: 1px;}#sk-container-id-5 div.sk-estimator {font-family: monospace;background-color: #f0f8ff;border: 1px dotted black;border-radius: 0.25em;box-sizing: border-box;margin-bottom: 0.5em;}#sk-container-id-5 div.sk-estimator:hover {background-color: #d4ebff;}#sk-container-id-5 div.sk-parallel-item::after {content: \"\";width: 100%;border-bottom: 1px solid gray;flex-grow: 1;}#sk-container-id-5 div.sk-label:hover label.sk-toggleable__label {background-color: #d4ebff;}#sk-container-id-5 div.sk-serial::before {content: \"\";position: absolute;border-left: 1px solid gray;box-sizing: border-box;top: 0;bottom: 0;left: 50%;z-index: 0;}#sk-container-id-5 div.sk-serial {display: flex;flex-direction: column;align-items: center;background-color: white;padding-right: 0.2em;padding-left: 0.2em;position: relative;}#sk-container-id-5 div.sk-item {position: relative;z-index: 1;}#sk-container-id-5 div.sk-parallel {display: flex;align-items: stretch;justify-content: center;background-color: white;position: relative;}#sk-container-id-5 div.sk-item::before, #sk-container-id-5 div.sk-parallel-item::before {content: \"\";position: absolute;border-left: 1px solid gray;box-sizing: border-box;top: 0;bottom: 0;left: 50%;z-index: -1;}#sk-container-id-5 div.sk-parallel-item {display: flex;flex-direction: column;z-index: 1;position: relative;background-color: white;}#sk-container-id-5 div.sk-parallel-item:first-child::after {align-self: flex-end;width: 50%;}#sk-container-id-5 div.sk-parallel-item:last-child::after {align-self: flex-start;width: 50%;}#sk-container-id-5 div.sk-parallel-item:only-child::after {width: 0;}#sk-container-id-5 div.sk-dashed-wrapped {border: 1px dashed gray;margin: 0 0.4em 0.5em 0.4em;box-sizing: border-box;padding-bottom: 0.4em;background-color: white;}#sk-container-id-5 div.sk-label label {font-family: monospace;font-weight: bold;display: inline-block;line-height: 1.2em;}#sk-container-id-5 div.sk-label-container {text-align: center;}#sk-container-id-5 div.sk-container {/* jupyter's `normalize.less` sets `[hidden] { display: none; }` but bootstrap.min.css set `[hidden] { display: none !important; }` so we also need the `!important` here to be able to override the default hidden behavior on the sphinx rendered scikit-learn.org. See: https://github.com/scikit-learn/scikit-learn/issues/21755 */display: inline-block !important;position: relative;}#sk-container-id-5 div.sk-text-repr-fallback {display: none;}</style><div id=\"sk-container-id-5\" class=\"sk-top-container\"><div class=\"sk-text-repr-fallback\"><pre>RandomForestClassifier()</pre><b>In a Jupyter environment, please rerun this cell to show the HTML representation or trust the notebook. <br />On GitHub, the HTML representation is unable to render, please try loading this page with nbviewer.org.</b></div><div class=\"sk-container\" hidden><div class=\"sk-item\"><div class=\"sk-estimator sk-toggleable\"><input class=\"sk-toggleable__control sk-hidden--visually\" id=\"sk-estimator-id-5\" type=\"checkbox\" checked><label for=\"sk-estimator-id-5\" class=\"sk-toggleable__label sk-toggleable__label-arrow\">RandomForestClassifier</label><div class=\"sk-toggleable__content\"><pre>RandomForestClassifier()</pre></div></div></div></div></div>"
      ],
      "text/plain": [
       "RandomForestClassifier()"
      ]
     },
     "execution_count": 27,
     "metadata": {},
     "output_type": "execute_result"
    }
   ],
   "source": [
    "from sklearn.ensemble import RandomForestClassifier\n",
    "\n",
    "classifier4=RandomForestClassifier()\n",
    "\n",
    "classifier4.fit(X_train,Y_train)"
   ]
  },
  {
   "cell_type": "code",
   "execution_count": 28,
   "metadata": {},
   "outputs": [
    {
     "name": "stdout",
     "output_type": "stream",
     "text": [
      "0.85\n",
      "0.85\n",
      "0.8\n",
      "0.85\n"
     ]
    }
   ],
   "source": [
    "from sklearn.metrics import accuracy_score\n",
    "\n",
    "Y_pred1=classifier1.predict(X_test)\n",
    "Y_pred2=classifier2.predict(X_test)\n",
    "Y_pred3=classifier3.predict(X_test)\n",
    "Y_pred4=classifier4.predict(X_test)\n",
    "\n",
    "print(accuracy_score(Y_pred1,Y_test))\n",
    "print(accuracy_score(Y_pred2,Y_test))\n",
    "print(accuracy_score(Y_pred3,Y_test))\n",
    "print(accuracy_score(Y_pred4,Y_test))\n"
   ]
  },
  {
   "cell_type": "code",
   "execution_count": 29,
   "metadata": {},
   "outputs": [],
   "source": [
    "import pickle\n",
    "\n",
    "model=open('model.pkl','wb')\n",
    "\n",
    "pickle.dump(classifier1,model)\n",
    "\n",
    "model.close()"
   ]
  },
  {
   "cell_type": "code",
   "execution_count": null,
   "metadata": {},
   "outputs": [],
   "source": []
  }
 ],
 "metadata": {
  "kernelspec": {
   "display_name": "Python 3",
   "language": "python",
   "name": "python3"
  },
  "language_info": {
   "codemirror_mode": {
    "name": "ipython",
    "version": 3
   },
   "file_extension": ".py",
   "mimetype": "text/x-python",
   "name": "python",
   "nbconvert_exporter": "python",
   "pygments_lexer": "ipython3",
   "version": "3.10.6"
  }
 },
 "nbformat": 4,
 "nbformat_minor": 2
}
